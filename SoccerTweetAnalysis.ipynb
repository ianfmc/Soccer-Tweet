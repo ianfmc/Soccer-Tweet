{
 "cells": [
  {
   "cell_type": "code",
   "execution_count": 1,
   "metadata": {
    "collapsed": false
   },
   "outputs": [
    {
     "data": {
      "text/plain": [
       "DataFrame[key: string, value: string]"
      ]
     },
     "execution_count": 1,
     "metadata": {},
     "output_type": "execute_result"
    }
   ],
   "source": [
    "# Import and create a new SQLContext \n",
    "from pyspark.sql import SQLContext\n",
    "sqlContext = SQLContext(sc)\n",
    "sqlContext.sql(\"set spark.sql.caseSensitive=true\")"
   ]
  },
  {
   "cell_type": "code",
   "execution_count": 2,
   "metadata": {
    "collapsed": false
   },
   "outputs": [],
   "source": [
    "# Read the country CSV file into an RDD.\n",
    "country_lines = sc.textFile('file:///home/cloudera/Downloads/big-data-3/final-project/country-list.csv')"
   ]
  },
  {
   "cell_type": "code",
   "execution_count": 3,
   "metadata": {
    "collapsed": false
   },
   "outputs": [],
   "source": [
    "# Convert each line into a pair of words\n",
    "country_words = country_lines.flatMap(lambda line : line.split(\"\\n\"))"
   ]
  },
  {
   "cell_type": "code",
   "execution_count": 4,
   "metadata": {
    "collapsed": false
   },
   "outputs": [
    {
     "data": {
      "text/plain": [
       "['Afghanistan, AFG',\n",
       " 'Albania, ALB',\n",
       " 'Algeria, ALG',\n",
       " 'American Samoa, ASA',\n",
       " 'Andorra, AND']"
      ]
     },
     "execution_count": 4,
     "metadata": {},
     "output_type": "execute_result"
    }
   ],
   "source": [
    "country_words.take(5)"
   ]
  },
  {
   "cell_type": "code",
   "execution_count": 5,
   "metadata": {
    "collapsed": false
   },
   "outputs": [],
   "source": [
    "# Convert each pair of words into a tuple\n",
    "def split(line):\n",
    "    words = line.split(\", \")\n",
    "    return [(words[0], 0), (words[1], 1)]\n",
    "country_tuples = country_words.flatMap(split)"
   ]
  },
  {
   "cell_type": "code",
   "execution_count": 6,
   "metadata": {
    "collapsed": false
   },
   "outputs": [
    {
     "data": {
      "text/plain": [
       "[('Afghanistan', 0),\n",
       " ('AFG', 1),\n",
       " ('Albania', 0),\n",
       " ('ALB', 1),\n",
       " ('Algeria', 0),\n",
       " ('ALG', 1),\n",
       " ('American Samoa', 0),\n",
       " ('ASA', 1),\n",
       " ('Andorra', 0),\n",
       " ('AND', 1)]"
      ]
     },
     "execution_count": 6,
     "metadata": {},
     "output_type": "execute_result"
    }
   ],
   "source": [
    "country_tuples.take(10)"
   ]
  },
  {
   "cell_type": "code",
   "execution_count": 7,
   "metadata": {
    "collapsed": false
   },
   "outputs": [
    {
     "name": "stdout",
     "output_type": "stream",
     "text": [
      "root\n",
      " |-- country: string (nullable = true)\n",
      " |-- code: long (nullable = true)\n",
      "\n"
     ]
    },
    {
     "data": {
      "text/plain": [
       "[Row(country='Afghanistan', code=0),\n",
       " Row(country='AFG', code=1),\n",
       " Row(country='Albania', code=0),\n",
       " Row(country='ALB', code=1),\n",
       " Row(country='Algeria', code=0),\n",
       " Row(country='ALG', code=1),\n",
       " Row(country='American Samoa', code=0),\n",
       " Row(country='ASA', code=1),\n",
       " Row(country='Andorra', code=0),\n",
       " Row(country='AND', code=1),\n",
       " Row(country='Angola', code=0),\n",
       " Row(country='ANG', code=1),\n",
       " Row(country='Anguilla', code=0),\n",
       " Row(country='AIA', code=1),\n",
       " Row(country='Antigua and Barbuda', code=0)]"
      ]
     },
     "execution_count": 7,
     "metadata": {},
     "output_type": "execute_result"
    }
   ],
   "source": [
    "# Create the DataFrame, look at schema and contents\n",
    "countryDF = sqlContext.createDataFrame(country_tuples, [\"country\", \"code\"])\n",
    "countryDF.printSchema()\n",
    "countryDF.take(15)"
   ]
  },
  {
   "cell_type": "code",
   "execution_count": 8,
   "metadata": {
    "collapsed": false
   },
   "outputs": [
    {
     "data": {
      "text/plain": [
       "422"
      ]
     },
     "execution_count": 8,
     "metadata": {},
     "output_type": "execute_result"
    }
   ],
   "source": [
    "country_tuples.count()"
   ]
  },
  {
   "cell_type": "code",
   "execution_count": 9,
   "metadata": {
    "collapsed": false
   },
   "outputs": [],
   "source": [
    "# Read tweets CSV file into RDD of lines\n",
    "tweets = sc.textFile('file:///home/cloudera/Downloads/big-data-3/mongodb/tweets.csv')"
   ]
  },
  {
   "cell_type": "code",
   "execution_count": 10,
   "metadata": {
    "collapsed": false
   },
   "outputs": [
    {
     "data": {
      "text/plain": [
       "['tweet_text',\n",
       " 'RT @ochocinco: I beat them all for 10 straight hours #FIFA16KING  https://t.co/BFnV6jfkBL',\n",
       " 'RT @NiallOfficial: @Louis_Tomlinson @socceraid when I retired from playing because of my knee . I went and did my uefa A badges in Dublin',\n",
       " 'RT @GameSeek: Follow & Retweet for your chance to win a copy of FIFA 17 Deluxe Edition (platform of your choice) in our #giveaway! https://…',\n",
       " '@CIVARAGI ...I was putting ffs but it autocorrected it too FIFA']"
      ]
     },
     "execution_count": 10,
     "metadata": {},
     "output_type": "execute_result"
    }
   ],
   "source": [
    "tweets.take(5)"
   ]
  },
  {
   "cell_type": "code",
   "execution_count": 11,
   "metadata": {
    "collapsed": false
   },
   "outputs": [
    {
     "data": {
      "text/plain": [
       "13995"
      ]
     },
     "execution_count": 11,
     "metadata": {},
     "output_type": "execute_result"
    }
   ],
   "source": [
    "tweets.count()"
   ]
  },
  {
   "cell_type": "code",
   "execution_count": 12,
   "metadata": {
    "collapsed": false
   },
   "outputs": [],
   "source": [
    "# Clean the data: some tweets are empty. Remove the empty tweets using filter() \n",
    "filtered_tweets = tweets.filter(lambda line: line != '')"
   ]
  },
  {
   "cell_type": "code",
   "execution_count": 13,
   "metadata": {
    "collapsed": false
   },
   "outputs": [
    {
     "data": {
      "text/plain": [
       "['tweet_text',\n",
       " 'RT @ochocinco: I beat them all for 10 straight hours #FIFA16KING  https://t.co/BFnV6jfkBL',\n",
       " 'RT @NiallOfficial: @Louis_Tomlinson @socceraid when I retired from playing because of my knee . I went and did my uefa A badges in Dublin',\n",
       " 'RT @GameSeek: Follow & Retweet for your chance to win a copy of FIFA 17 Deluxe Edition (platform of your choice) in our #giveaway! https://…',\n",
       " '@CIVARAGI ...I was putting ffs but it autocorrected it too FIFA']"
      ]
     },
     "execution_count": 13,
     "metadata": {},
     "output_type": "execute_result"
    }
   ],
   "source": [
    "filtered_tweets.take(5)"
   ]
  },
  {
   "cell_type": "code",
   "execution_count": 14,
   "metadata": {
    "collapsed": false
   },
   "outputs": [],
   "source": [
    "# Perform WordCount on the cleaned tweet texts. (note: this is several lines.)\n",
    "tweet_words = filtered_tweets.flatMap(lambda line: line.split(\" \"))\n",
    "tweet_tuples = tweet_words.map(lambda word: (word, 1))\n",
    "tweet_word_count = tweet_tuples.reduceByKey(lambda a, b: a + b)"
   ]
  },
  {
   "cell_type": "code",
   "execution_count": 15,
   "metadata": {
    "collapsed": false
   },
   "outputs": [
    {
     "data": {
      "text/plain": [
       "[('', 3292),\n",
       " ('https://t.co/fQftAwGAad', 1),\n",
       " ('mobile', 1),\n",
       " ('#FridayNightTouchdown', 1),\n",
       " ('circle', 7),\n",
       " ('#thfc', 2),\n",
       " ('reinstated', 4),\n",
       " ('like?\"', 1),\n",
       " ('Bellow', 1),\n",
       " ('now\"', 1),\n",
       " ('https://t.co/W4QluWGyeq', 1),\n",
       " ('https://t.co/qMkpvzgr0Y', 1),\n",
       " ('NINTENDO', 1),\n",
       " ('year-', 1),\n",
       " ('belt', 1)]"
      ]
     },
     "execution_count": 15,
     "metadata": {},
     "output_type": "execute_result"
    }
   ],
   "source": [
    "tweet_word_count.take(15)"
   ]
  },
  {
   "cell_type": "code",
   "execution_count": 16,
   "metadata": {
    "collapsed": false
   },
   "outputs": [
    {
     "name": "stdout",
     "output_type": "stream",
     "text": [
      "root\n",
      " |-- country: string (nullable = true)\n",
      " |-- count: long (nullable = true)\n",
      "\n"
     ]
    },
    {
     "data": {
      "text/plain": [
       "[Row(country='', count=3292),\n",
       " Row(country='https://t.co/fQftAwGAad', count=1),\n",
       " Row(country='mobile', count=1),\n",
       " Row(country='#FridayNightTouchdown', count=1),\n",
       " Row(country='circle', count=7),\n",
       " Row(country='#thfc', count=2),\n",
       " Row(country='reinstated', count=4),\n",
       " Row(country='like?\"', count=1),\n",
       " Row(country='Bellow', count=1),\n",
       " Row(country='now\"', count=1)]"
      ]
     },
     "execution_count": 16,
     "metadata": {},
     "output_type": "execute_result"
    }
   ],
   "source": [
    "# Create the DataFrame of tweet word counts\n",
    "tweetsDF = sqlContext.createDataFrame(tweet_word_count, [\"country\", \"count\"])\n",
    "tweetsDF.printSchema()\n",
    "tweetsDF.take(10)"
   ]
  },
  {
   "cell_type": "code",
   "execution_count": 17,
   "metadata": {
    "collapsed": false
   },
   "outputs": [],
   "source": [
    "# Join the country and tweet data frames (on the appropriate column)\n",
    "merge = tweetsDF.join(countryDF.filter(countryDF[\"code\"] == 0), 'country')"
   ]
  },
  {
   "cell_type": "code",
   "execution_count": 18,
   "metadata": {
    "collapsed": false
   },
   "outputs": [
    {
     "name": "stdout",
     "output_type": "stream",
     "text": [
      "root\n",
      " |-- country: string (nullable = true)\n",
      " |-- count: long (nullable = true)\n",
      " |-- code: long (nullable = true)\n",
      "\n"
     ]
    }
   ],
   "source": [
    "merge.printSchema()"
   ]
  },
  {
   "cell_type": "code",
   "execution_count": 19,
   "metadata": {
    "collapsed": false
   },
   "outputs": [
    {
     "data": {
      "text/plain": [
       "[Row(country='Thailand', count=1, code=0),\n",
       " Row(country='Iceland', count=2, code=0),\n",
       " Row(country='Mexico', count=1, code=0),\n",
       " Row(country='Wales', count=19, code=0),\n",
       " Row(country='Denmark', count=1, code=0),\n",
       " Row(country='India', count=4, code=0),\n",
       " Row(country='Portugal', count=8, code=0),\n",
       " Row(country='Poland', count=1, code=0),\n",
       " Row(country='Norway', count=52, code=0),\n",
       " Row(country='Guinea', count=8, code=0),\n",
       " Row(country='Slovakia', count=30, code=0),\n",
       " Row(country='Canada', count=11, code=0),\n",
       " Row(country='Netherlands', count=13, code=0),\n",
       " Row(country='Kenya', count=3, code=0),\n",
       " Row(country='Oman', count=1, code=0)]"
      ]
     },
     "execution_count": 19,
     "metadata": {},
     "output_type": "execute_result"
    }
   ],
   "source": [
    "merge.take(15)"
   ]
  },
  {
   "cell_type": "code",
   "execution_count": 20,
   "metadata": {
    "collapsed": false
   },
   "outputs": [
    {
     "data": {
      "text/plain": [
       "44"
      ]
     },
     "execution_count": 20,
     "metadata": {},
     "output_type": "execute_result"
    }
   ],
   "source": [
    "# Question 1: number of distinct countries mentioned\n",
    "merge.distinct().count()"
   ]
  },
  {
   "cell_type": "code",
   "execution_count": 21,
   "metadata": {
    "collapsed": false
   },
   "outputs": [
    {
     "name": "stdout",
     "output_type": "stream",
     "text": [
      "+-------+-----------------+\n",
      "|summary|            count|\n",
      "+-------+-----------------+\n",
      "|  count|               44|\n",
      "|   mean|9.022727272727273|\n",
      "| stddev|12.62977036076866|\n",
      "|    min|                1|\n",
      "|    max|               52|\n",
      "+-------+-----------------+\n",
      "\n",
      "+----------+\n",
      "|sum(count)|\n",
      "+----------+\n",
      "|       397|\n",
      "+----------+\n",
      "\n"
     ]
    }
   ],
   "source": [
    "# Question 2: number of countries mentioned in tweets.\n",
    "from pyspark.sql.functions import sum\n",
    "merge.select(\"count\").describe().show()\n",
    "merge.select(\"count\").agg({'count' : 'sum'}).show()"
   ]
  },
  {
   "cell_type": "code",
   "execution_count": 22,
   "metadata": {
    "collapsed": false
   },
   "outputs": [
    {
     "name": "stdout",
     "output_type": "stream",
     "text": [
      "+--------+-----+----+\n",
      "| country|count|code|\n",
      "+--------+-----+----+\n",
      "|  Norway|   52|   0|\n",
      "| Nigeria|   49|   0|\n",
      "|  France|   42|   0|\n",
      "|Slovakia|   30|   0|\n",
      "| England|   25|   0|\n",
      "+--------+-----+----+\n",
      "only showing top 5 rows\n",
      "\n"
     ]
    }
   ],
   "source": [
    "# Table 1: top three countries and their counts.\n",
    "from pyspark.sql.functions import desc\n",
    "merge.orderBy(desc(\"count\")).show(5)"
   ]
  },
  {
   "cell_type": "code",
   "execution_count": 23,
   "metadata": {
    "collapsed": false
   },
   "outputs": [
    {
     "name": "stdout",
     "output_type": "stream",
     "text": [
      "+-------+-----+----+\n",
      "|country|count|code|\n",
      "+-------+-----+----+\n",
      "|  Wales|   19|   0|\n",
      "+-------+-----+----+\n",
      "\n",
      "+-----------+-----+----+\n",
      "|    country|count|code|\n",
      "+-----------+-----+----+\n",
      "|Netherlands|   13|   0|\n",
      "+-----------+-----+----+\n",
      "\n",
      "+-------+-----+----+\n",
      "|country|count|code|\n",
      "+-------+-----+----+\n",
      "|  Kenya|    3|   0|\n",
      "+-------+-----+----+\n",
      "\n",
      "+-------+-----+----+\n",
      "|country|count|code|\n",
      "+-------+-----+----+\n",
      "|Iceland|    2|   0|\n",
      "+-------+-----+----+\n",
      "\n",
      "+-------+-----+----+\n",
      "|country|count|code|\n",
      "+-------+-----+----+\n",
      "|  Japan|    5|   0|\n",
      "+-------+-----+----+\n",
      "\n"
     ]
    }
   ],
   "source": [
    "# Table 2: counts for Wales, Iceland, and Japan.\n",
    "merge.filter(merge[\"country\"] == \"Wales\").show(1)\n",
    "merge.filter(merge[\"country\"] == \"Netherlands\").show(1)\n",
    "merge.filter(merge[\"country\"] == \"Kenya\").show(1)\n",
    "merge.filter(merge[\"country\"] == \"Iceland\").show(1)\n",
    "merge.filter(merge[\"country\"] == \"Japan\").show(1)"
   ]
  },
  {
   "cell_type": "code",
   "execution_count": 24,
   "metadata": {
    "collapsed": false
   },
   "outputs": [
    {
     "name": "stdout",
     "output_type": "stream",
     "text": [
      "+-----------------+\n",
      "|       avg(count)|\n",
      "+-----------------+\n",
      "|9.022727272727273|\n",
      "+-----------------+\n",
      "\n"
     ]
    }
   ],
   "source": [
    "merge.select(\"count\").agg({'count' : 'avg'}).show()"
   ]
  }
 ],
 "metadata": {
  "kernelspec": {
   "display_name": "Python 3",
   "language": "python",
   "name": "python3"
  },
  "language_info": {
   "codemirror_mode": {
    "name": "ipython",
    "version": 3
   },
   "file_extension": ".py",
   "mimetype": "text/x-python",
   "name": "python",
   "nbconvert_exporter": "python",
   "pygments_lexer": "ipython3",
   "version": "3.5.1"
  }
 },
 "nbformat": 4,
 "nbformat_minor": 0
}
